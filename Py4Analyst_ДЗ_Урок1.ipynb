{
  "metadata": {
    "language_info": {
      "codemirror_mode": {
        "name": "python",
        "version": 3
      },
      "file_extension": ".py",
      "mimetype": "text/x-python",
      "name": "python",
      "nbconvert_exporter": "python",
      "pygments_lexer": "ipython3",
      "version": "3.8"
    },
    "kernelspec": {
      "name": "python",
      "display_name": "Python (Pyodide)",
      "language": "python"
    }
  },
  "nbformat_minor": 4,
  "nbformat": 4,
  "cells": [
    {
      "cell_type": "markdown",
      "source": "## Домашнее задание 1 ##\n### Выполнено Павлом Овчинниковым при обучении на курсе \"Основы языка Python для аналитиков\" ###\n### Преподаватель Станислав Никуличев ###",
      "metadata": {}
    },
    {
      "cell_type": "markdown",
      "source": "______________________________________________________________________________\n## Задание 1) \n### Оформляйте ноутбук, используя эти советы:\n### * Номер задачи - заголовок 2\n### * Номер подзадачи - заголовок 3\n### * Предоставленные наборы данных оформляйте, как код\n______________________________________________________________________________\n## Задание 2) \n### На складе лежат разные фрукты в разном количестве. Нужно написать функцию, которая на вход принимает любое количество названий фруктов и их количество, а возвращает общее количество фруктов на складе",
      "metadata": {}
    },
    {
      "cell_type": "code",
      "source": "fruit_data = {'banana': 35, 'orange': 54, 'mango': 7, 'apple': 68, 'plums': 1001}\n\ndef fruitSumFunc(**kwargs):    \n    fruits_number = sum(kwargs.values())    \n    return f'Total fruits: {fruits_number}'\n\nprint(fruitSumFunc(banana=35, orange=54, mango=7, apple=68, plums=1001))",
      "metadata": {
        "trusted": true
      },
      "execution_count": 4,
      "outputs": [
        {
          "name": "stdout",
          "text": "Total fruits: 1165\n",
          "output_type": "stream"
        }
      ]
    },
    {
      "cell_type": "markdown",
      "source": "______________________________________________________________________________\n## Задание 3) \n### Дан список с затратами на рекламу. Но в данных есть ошибки, некоторые затраты имеют отрицательную величину. Удалите такие значения из списка и посчитайте суммарные затраты [100, 125, -90, 345, 655, -1, 0, 200]",
      "metadata": {}
    },
    {
      "cell_type": "code",
      "source": "array = [100, 125, -90, 345, 655, -1, 0, 200]\ncorrected_costs_list = [a for a in array if a >= 0]\nprint(sum(corrected_costs_list))\ncorrected_costs_list",
      "metadata": {
        "trusted": true
      },
      "execution_count": 4,
      "outputs": [
        {
          "name": "stdout",
          "text": "1425\n",
          "output_type": "stream"
        },
        {
          "execution_count": 4,
          "output_type": "execute_result",
          "data": {
            "text/plain": "[100, 125, 345, 655, 0, 200]"
          },
          "metadata": {}
        }
      ]
    },
    {
      "cell_type": "markdown",
      "source": "______________________________________________________________________________\n## Задание 4) \n### Даны два списка.\n### Дата покупки \n['2021-09-14', '2021-12-15', '2021-09-08', '2021-12-05', '2021-10-09', '2021-09-30', '2021-12-22', '2021-11-29', '2021-12-24', '2021-11-26', '2021-10-27', '2021-12-18', '2021-11-09', '2021-11-23', '2021-09-27', '2021-10-02', '2021-12-27', '2021-09-20', '2021-12-13', '2021-11-01', '2021-11-09', '2021-12-06', '2021-12-08', '2021-10-09', '2021-10-31', '2021-09-30', '2021-11-09', '2021-12-13', '2021-10-26', '2021-12-09']\n### Суммы покупок по датам\n[1270, 8413, 9028, 3703, 5739, 4095, 295, 4944, 5723, 3701, 4471, 651, 7037, 4274, 6275, 4988, 6930, 2971, 6592, 2004, 2822, 519, 3406, 2732, 5015, 2008, 316, 6333, 5700, 2887]\n### 4.1 Найдите, какая выручка у компании в ноябре. Используйте list comprehensions\n### 4.2 Найдите выручку компании в зависимости от месяца. Для этого напишите функцию, которая на вход принимает список с датами и список с выручкой, а на выходе словарь, где ключи - это месяцы, а значения - это выручка. Используйте аннотирование типов.",
      "metadata": {}
    },
    {
      "cell_type": "code",
      "source": "import pandas as pd\nimport datetime\n \ndef monthly_revenue(dates, amount):\n    df = pd.DataFrame()\n    df['Date'] = [datetime.datetime.strptime(i, '%Y-%m-%d') for i in date]\n    df['Sum'] = money\n    df['Month'] = pd.DatetimeIndex(df['Date']).month\n    return df.groupby('Month').sum(numeric_only = True)\n\ndate = ['2021-09-14', '2021-12-15', '2021-09-08', '2021-12-05', '2021-10-09', '2021-09-30', '2021-12-22', '2021-11-29',\n      '2021-12-24', '2021-11-26', '2021-10-27', '2021-12-18', '2021-11-09', '2021-11-23', '2021-09-27', '2021-10-02',\n      '2021-12-27', '2021-09-20', '2021-12-13', '2021-11-01', '2021-11-09', '2021-12-06', '2021-12-08', '2021-10-09',\n      '2021-10-31', '2021-09-30', '2021-11-09', '2021-12-13', '2021-10-26', '2021-12-09']\nmoney = [1270, 8413, 9028, 3703, 5739, 4095, 295, 4944, 5723, 3701, 4471, 651, 7037, 4274, 6275, 4988, 6930, 2971, 6592,\n      2004, 2822, 519, 3406, 2732, 5015, 2008, 316, 6333, 5700, 2887]\n \nprint(f'Выручка у компании в ноябре - {sum(money[i] for i in range(len(date)) if \"-11-\" in date[i])}')\nmonthly_revenue(date, money)\n\n",
      "metadata": {
        "trusted": true
      },
      "execution_count": 13,
      "outputs": [
        {
          "name": "stdout",
          "text": "Выручка у компании в ноябре - 25098\n",
          "output_type": "stream"
        },
        {
          "execution_count": 13,
          "output_type": "execute_result",
          "data": {
            "text/plain": "         Sum\nMonth       \n9      25647\n10     28645\n11     25098\n12     45452",
            "text/html": "<div>\n<style scoped>\n    .dataframe tbody tr th:only-of-type {\n        vertical-align: middle;\n    }\n\n    .dataframe tbody tr th {\n        vertical-align: top;\n    }\n\n    .dataframe thead th {\n        text-align: right;\n    }\n</style>\n<table border=\"1\" class=\"dataframe\">\n  <thead>\n    <tr style=\"text-align: right;\">\n      <th></th>\n      <th>Sum</th>\n    </tr>\n    <tr>\n      <th>Month</th>\n      <th></th>\n    </tr>\n  </thead>\n  <tbody>\n    <tr>\n      <th>9</th>\n      <td>25647</td>\n    </tr>\n    <tr>\n      <th>10</th>\n      <td>28645</td>\n    </tr>\n    <tr>\n      <th>11</th>\n      <td>25098</td>\n    </tr>\n    <tr>\n      <th>12</th>\n      <td>45452</td>\n    </tr>\n  </tbody>\n</table>\n</div>"
          },
          "metadata": {}
        }
      ]
    },
    {
      "cell_type": "code",
      "source": "",
      "metadata": {},
      "execution_count": null,
      "outputs": []
    }
  ]
}