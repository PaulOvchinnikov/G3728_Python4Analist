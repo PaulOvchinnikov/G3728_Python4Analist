{
  "cells": [
    {
      "cell_type": "markdown",
      "metadata": {},
      "source": [
        "## Домашнее задание 4 ##\n",
        "### Выполнено Павлом Овчинниковым при обучении на курсе \"Основы языка Python для аналитиков\" ###\n",
        "### Преподаватель Станислав Никуличев ###"
      ]
    },
    {
      "cell_type": "markdown",
      "metadata": {},
      "source": [
        "## Урок 4. Визуальный анализ данных\n",
        "Условие 1: Задача 1\n",
        "Постройте график\n",
        "Назовите график\n",
        "Сделайте именование оси x и оси y\n",
        "Сделайте выводы\n",
        "\n",
        "1.1. Скачать следующие данные: kc-house-data и laptop_price"
      ]
    },
    {
      "cell_type": "code",
      "execution_count": 46,
      "metadata": {},
      "outputs": [
        {
          "data": {
            "text/html": [
              "<div>\n",
              "<style scoped>\n",
              "    .dataframe tbody tr th:only-of-type {\n",
              "        vertical-align: middle;\n",
              "    }\n",
              "\n",
              "    .dataframe tbody tr th {\n",
              "        vertical-align: top;\n",
              "    }\n",
              "\n",
              "    .dataframe thead th {\n",
              "        text-align: right;\n",
              "    }\n",
              "</style>\n",
              "<table border=\"1\" class=\"dataframe\">\n",
              "  <thead>\n",
              "    <tr style=\"text-align: right;\">\n",
              "      <th></th>\n",
              "      <th>id</th>\n",
              "      <th>price</th>\n",
              "      <th>bedrooms</th>\n",
              "      <th>bathrooms</th>\n",
              "      <th>sqft_living</th>\n",
              "      <th>sqft_lot</th>\n",
              "      <th>floors</th>\n",
              "      <th>waterfront</th>\n",
              "      <th>view</th>\n",
              "      <th>condition</th>\n",
              "      <th>grade</th>\n",
              "      <th>sqft_above</th>\n",
              "      <th>sqft_basement</th>\n",
              "      <th>yr_built</th>\n",
              "      <th>yr_renovated</th>\n",
              "      <th>zipcode</th>\n",
              "      <th>lat</th>\n",
              "      <th>long</th>\n",
              "      <th>sqft_living15</th>\n",
              "      <th>sqft_lot15</th>\n",
              "    </tr>\n",
              "  </thead>\n",
              "  <tbody>\n",
              "    <tr>\n",
              "      <th>count</th>\n",
              "      <td>2.161300e+04</td>\n",
              "      <td>2.161300e+04</td>\n",
              "      <td>21613.000000</td>\n",
              "      <td>21613.000000</td>\n",
              "      <td>21613.000000</td>\n",
              "      <td>2.161300e+04</td>\n",
              "      <td>21613.000000</td>\n",
              "      <td>21613.000000</td>\n",
              "      <td>21613.000000</td>\n",
              "      <td>21613.000000</td>\n",
              "      <td>21613.000000</td>\n",
              "      <td>21611.000000</td>\n",
              "      <td>21613.000000</td>\n",
              "      <td>21613.000000</td>\n",
              "      <td>21613.000000</td>\n",
              "      <td>21613.000000</td>\n",
              "      <td>21613.000000</td>\n",
              "      <td>21613.000000</td>\n",
              "      <td>21613.000000</td>\n",
              "      <td>21613.000000</td>\n",
              "    </tr>\n",
              "    <tr>\n",
              "      <th>mean</th>\n",
              "      <td>4.580302e+09</td>\n",
              "      <td>5.400881e+05</td>\n",
              "      <td>3.370842</td>\n",
              "      <td>2.114757</td>\n",
              "      <td>2079.899736</td>\n",
              "      <td>1.510697e+04</td>\n",
              "      <td>1.494309</td>\n",
              "      <td>0.007542</td>\n",
              "      <td>0.234303</td>\n",
              "      <td>3.409430</td>\n",
              "      <td>7.656873</td>\n",
              "      <td>1788.396095</td>\n",
              "      <td>291.509045</td>\n",
              "      <td>1971.005136</td>\n",
              "      <td>84.402258</td>\n",
              "      <td>98077.939805</td>\n",
              "      <td>47.560053</td>\n",
              "      <td>-122.213896</td>\n",
              "      <td>1986.552492</td>\n",
              "      <td>12768.455652</td>\n",
              "    </tr>\n",
              "    <tr>\n",
              "      <th>std</th>\n",
              "      <td>2.876566e+09</td>\n",
              "      <td>3.671272e+05</td>\n",
              "      <td>0.930062</td>\n",
              "      <td>0.770163</td>\n",
              "      <td>918.440897</td>\n",
              "      <td>4.142051e+04</td>\n",
              "      <td>0.539989</td>\n",
              "      <td>0.086517</td>\n",
              "      <td>0.766318</td>\n",
              "      <td>0.650743</td>\n",
              "      <td>1.175459</td>\n",
              "      <td>828.128162</td>\n",
              "      <td>442.575043</td>\n",
              "      <td>29.373411</td>\n",
              "      <td>401.679240</td>\n",
              "      <td>53.505026</td>\n",
              "      <td>0.138564</td>\n",
              "      <td>0.140828</td>\n",
              "      <td>685.391304</td>\n",
              "      <td>27304.179631</td>\n",
              "    </tr>\n",
              "    <tr>\n",
              "      <th>min</th>\n",
              "      <td>1.000102e+06</td>\n",
              "      <td>7.500000e+04</td>\n",
              "      <td>0.000000</td>\n",
              "      <td>0.000000</td>\n",
              "      <td>290.000000</td>\n",
              "      <td>5.200000e+02</td>\n",
              "      <td>1.000000</td>\n",
              "      <td>0.000000</td>\n",
              "      <td>0.000000</td>\n",
              "      <td>1.000000</td>\n",
              "      <td>1.000000</td>\n",
              "      <td>290.000000</td>\n",
              "      <td>0.000000</td>\n",
              "      <td>1900.000000</td>\n",
              "      <td>0.000000</td>\n",
              "      <td>98001.000000</td>\n",
              "      <td>47.155900</td>\n",
              "      <td>-122.519000</td>\n",
              "      <td>399.000000</td>\n",
              "      <td>651.000000</td>\n",
              "    </tr>\n",
              "    <tr>\n",
              "      <th>25%</th>\n",
              "      <td>2.123049e+09</td>\n",
              "      <td>3.219500e+05</td>\n",
              "      <td>3.000000</td>\n",
              "      <td>1.750000</td>\n",
              "      <td>1427.000000</td>\n",
              "      <td>5.040000e+03</td>\n",
              "      <td>1.000000</td>\n",
              "      <td>0.000000</td>\n",
              "      <td>0.000000</td>\n",
              "      <td>3.000000</td>\n",
              "      <td>7.000000</td>\n",
              "      <td>1190.000000</td>\n",
              "      <td>0.000000</td>\n",
              "      <td>1951.000000</td>\n",
              "      <td>0.000000</td>\n",
              "      <td>98033.000000</td>\n",
              "      <td>47.471000</td>\n",
              "      <td>-122.328000</td>\n",
              "      <td>1490.000000</td>\n",
              "      <td>5100.000000</td>\n",
              "    </tr>\n",
              "    <tr>\n",
              "      <th>50%</th>\n",
              "      <td>3.904930e+09</td>\n",
              "      <td>4.500000e+05</td>\n",
              "      <td>3.000000</td>\n",
              "      <td>2.250000</td>\n",
              "      <td>1910.000000</td>\n",
              "      <td>7.618000e+03</td>\n",
              "      <td>1.500000</td>\n",
              "      <td>0.000000</td>\n",
              "      <td>0.000000</td>\n",
              "      <td>3.000000</td>\n",
              "      <td>7.000000</td>\n",
              "      <td>1560.000000</td>\n",
              "      <td>0.000000</td>\n",
              "      <td>1975.000000</td>\n",
              "      <td>0.000000</td>\n",
              "      <td>98065.000000</td>\n",
              "      <td>47.571800</td>\n",
              "      <td>-122.230000</td>\n",
              "      <td>1840.000000</td>\n",
              "      <td>7620.000000</td>\n",
              "    </tr>\n",
              "    <tr>\n",
              "      <th>75%</th>\n",
              "      <td>7.308900e+09</td>\n",
              "      <td>6.450000e+05</td>\n",
              "      <td>4.000000</td>\n",
              "      <td>2.500000</td>\n",
              "      <td>2550.000000</td>\n",
              "      <td>1.068800e+04</td>\n",
              "      <td>2.000000</td>\n",
              "      <td>0.000000</td>\n",
              "      <td>0.000000</td>\n",
              "      <td>4.000000</td>\n",
              "      <td>8.000000</td>\n",
              "      <td>2210.000000</td>\n",
              "      <td>560.000000</td>\n",
              "      <td>1997.000000</td>\n",
              "      <td>0.000000</td>\n",
              "      <td>98118.000000</td>\n",
              "      <td>47.678000</td>\n",
              "      <td>-122.125000</td>\n",
              "      <td>2360.000000</td>\n",
              "      <td>10083.000000</td>\n",
              "    </tr>\n",
              "    <tr>\n",
              "      <th>max</th>\n",
              "      <td>9.900000e+09</td>\n",
              "      <td>7.700000e+06</td>\n",
              "      <td>33.000000</td>\n",
              "      <td>8.000000</td>\n",
              "      <td>13540.000000</td>\n",
              "      <td>1.651359e+06</td>\n",
              "      <td>3.500000</td>\n",
              "      <td>1.000000</td>\n",
              "      <td>4.000000</td>\n",
              "      <td>5.000000</td>\n",
              "      <td>13.000000</td>\n",
              "      <td>9410.000000</td>\n",
              "      <td>4820.000000</td>\n",
              "      <td>2015.000000</td>\n",
              "      <td>2015.000000</td>\n",
              "      <td>98199.000000</td>\n",
              "      <td>47.777600</td>\n",
              "      <td>-121.315000</td>\n",
              "      <td>6210.000000</td>\n",
              "      <td>871200.000000</td>\n",
              "    </tr>\n",
              "  </tbody>\n",
              "</table>\n",
              "</div>"
            ],
            "text/plain": [
              "                 id         price      bedrooms     bathrooms   sqft_living  \\\n",
              "count  2.161300e+04  2.161300e+04  21613.000000  21613.000000  21613.000000   \n",
              "mean   4.580302e+09  5.400881e+05      3.370842      2.114757   2079.899736   \n",
              "std    2.876566e+09  3.671272e+05      0.930062      0.770163    918.440897   \n",
              "min    1.000102e+06  7.500000e+04      0.000000      0.000000    290.000000   \n",
              "25%    2.123049e+09  3.219500e+05      3.000000      1.750000   1427.000000   \n",
              "50%    3.904930e+09  4.500000e+05      3.000000      2.250000   1910.000000   \n",
              "75%    7.308900e+09  6.450000e+05      4.000000      2.500000   2550.000000   \n",
              "max    9.900000e+09  7.700000e+06     33.000000      8.000000  13540.000000   \n",
              "\n",
              "           sqft_lot        floors    waterfront          view     condition  \\\n",
              "count  2.161300e+04  21613.000000  21613.000000  21613.000000  21613.000000   \n",
              "mean   1.510697e+04      1.494309      0.007542      0.234303      3.409430   \n",
              "std    4.142051e+04      0.539989      0.086517      0.766318      0.650743   \n",
              "min    5.200000e+02      1.000000      0.000000      0.000000      1.000000   \n",
              "25%    5.040000e+03      1.000000      0.000000      0.000000      3.000000   \n",
              "50%    7.618000e+03      1.500000      0.000000      0.000000      3.000000   \n",
              "75%    1.068800e+04      2.000000      0.000000      0.000000      4.000000   \n",
              "max    1.651359e+06      3.500000      1.000000      4.000000      5.000000   \n",
              "\n",
              "              grade    sqft_above  sqft_basement      yr_built  yr_renovated  \\\n",
              "count  21613.000000  21611.000000   21613.000000  21613.000000  21613.000000   \n",
              "mean       7.656873   1788.396095     291.509045   1971.005136     84.402258   \n",
              "std        1.175459    828.128162     442.575043     29.373411    401.679240   \n",
              "min        1.000000    290.000000       0.000000   1900.000000      0.000000   \n",
              "25%        7.000000   1190.000000       0.000000   1951.000000      0.000000   \n",
              "50%        7.000000   1560.000000       0.000000   1975.000000      0.000000   \n",
              "75%        8.000000   2210.000000     560.000000   1997.000000      0.000000   \n",
              "max       13.000000   9410.000000    4820.000000   2015.000000   2015.000000   \n",
              "\n",
              "            zipcode           lat          long  sqft_living15     sqft_lot15  \n",
              "count  21613.000000  21613.000000  21613.000000   21613.000000   21613.000000  \n",
              "mean   98077.939805     47.560053   -122.213896    1986.552492   12768.455652  \n",
              "std       53.505026      0.138564      0.140828     685.391304   27304.179631  \n",
              "min    98001.000000     47.155900   -122.519000     399.000000     651.000000  \n",
              "25%    98033.000000     47.471000   -122.328000    1490.000000    5100.000000  \n",
              "50%    98065.000000     47.571800   -122.230000    1840.000000    7620.000000  \n",
              "75%    98118.000000     47.678000   -122.125000    2360.000000   10083.000000  \n",
              "max    98199.000000     47.777600   -121.315000    6210.000000  871200.000000  "
            ]
          },
          "execution_count": 46,
          "metadata": {},
          "output_type": "execute_result"
        }
      ],
      "source": [
        "import pandas as pd\n",
        "import numpy as np\n",
        "from scipy import stats\n",
        "\n",
        "# df=pd.read_csv(r\"C:\\Users\\paovc\\OneDrive\\Documents\\GeekBrains\\Курс 9 Python для аналитиков\\kc-house-data.csv\", sep = ',', encoding='windows-1251')\n",
        "df_khd=pd.read_csv(r\"kc_house_data.csv\", sep = ',', encoding = 'utf-8')\n",
        "df_khd.describe()"
      ]
    },
    {
      "cell_type": "markdown",
      "metadata": {},
      "source": [
        "1.2. Изучите стоимости недвижимости"
      ]
    },
    {
      "cell_type": "code",
      "execution_count": 47,
      "metadata": {},
      "outputs": [
        {
          "name": "stdout",
          "output_type": "stream",
          "text": [
            "Стоимости недвижимости НЕ является нормальным распределением\n"
          ]
        }
      ],
      "source": [
        "\n",
        "# pv = stats.shapiro(df_khd['price'].sample(5000)).pvalue\n",
        "pv = stats.shapiro(df_khd['price'].sample(1000)).pvalue\n",
        "\n",
        "# print(len(df_khd['price']))\n",
        "if pv < 0.05:\n",
        "    print(f'Стоимости недвижимости НЕ является нормальным распределением')\n",
        "else :\n",
        "    (print(f'Стоимости недвижимости является нормальным распределением'))\n"
      ]
    },
    {
      "cell_type": "code",
      "execution_count": 48,
      "metadata": {},
      "outputs": [
        {
          "data": {
            "text/plain": [
              "(array([2.400e+01, 4.500e+01, 8.000e+01, 1.850e+02, 3.100e+02, 4.990e+02,\n",
              "        7.190e+02, 9.720e+02, 9.360e+02, 1.003e+03, 9.670e+02, 1.132e+03,\n",
              "        9.480e+02, 8.220e+02, 9.630e+02, 9.800e+02, 8.370e+02, 7.730e+02,\n",
              "        7.200e+02, 6.630e+02, 7.510e+02, 5.610e+02, 5.970e+02, 4.970e+02,\n",
              "        4.660e+02, 4.090e+02, 4.330e+02, 2.910e+02, 3.290e+02, 3.590e+02,\n",
              "        2.680e+02, 2.770e+02, 2.170e+02, 2.350e+02, 1.820e+02, 1.610e+02,\n",
              "        1.560e+02, 1.370e+02, 1.120e+02, 1.340e+02, 5.100e+01, 4.900e+01,\n",
              "        8.500e+01, 4.800e+01, 6.400e+01, 4.300e+01, 5.600e+01, 3.700e+01,\n",
              "        6.900e+01, 3.800e+01, 5.700e+01, 4.000e+01, 5.200e+01, 4.200e+01,\n",
              "        2.100e+01, 3.400e+01, 3.500e+01, 3.700e+01, 1.500e+01, 3.200e+01,\n",
              "        2.000e+01, 2.800e+01, 1.300e+01, 1.700e+01, 2.700e+01, 2.700e+01,\n",
              "        1.400e+01, 2.100e+01, 7.000e+00, 2.400e+01, 2.300e+01, 1.100e+01,\n",
              "        1.300e+01, 9.000e+00, 1.700e+01, 8.000e+00, 9.000e+00, 1.300e+01,\n",
              "        1.800e+01, 7.000e+00, 1.100e+01, 8.000e+00, 6.000e+00, 1.000e+01,\n",
              "        1.000e+00, 5.000e+00, 1.000e+00, 3.000e+00, 3.000e+00, 8.000e+00,\n",
              "        2.000e+00, 1.200e+01, 5.000e+00, 1.000e+01, 2.000e+00, 3.000e+00,\n",
              "        9.000e+00, 2.000e+00, 4.000e+00, 3.000e+00, 1.100e+01, 0.000e+00,\n",
              "        6.000e+00, 5.000e+00, 5.000e+00, 2.000e+00, 6.000e+00, 5.000e+00,\n",
              "        2.000e+00, 0.000e+00, 2.000e+00, 1.000e+00, 1.000e+00, 5.000e+00,\n",
              "        2.000e+00, 3.000e+00, 0.000e+00, 1.000e+00, 0.000e+00, 1.000e+00,\n",
              "        0.000e+00, 7.000e+00, 2.000e+00, 1.000e+00, 4.000e+00, 1.000e+00,\n",
              "        6.000e+00, 0.000e+00, 0.000e+00, 3.000e+00, 3.000e+00, 1.000e+00,\n",
              "        0.000e+00, 1.000e+00, 4.000e+00, 1.000e+00, 0.000e+00, 0.000e+00,\n",
              "        1.000e+00, 4.000e+00, 0.000e+00, 1.000e+00, 0.000e+00, 3.000e+00,\n",
              "        1.000e+00, 0.000e+00, 0.000e+00, 0.000e+00, 0.000e+00, 0.000e+00,\n",
              "        1.000e+00, 0.000e+00, 1.000e+00, 2.000e+00, 2.000e+00, 0.000e+00,\n",
              "        1.000e+00, 0.000e+00, 0.000e+00, 0.000e+00, 2.000e+00, 0.000e+00,\n",
              "        1.000e+00, 0.000e+00, 0.000e+00, 0.000e+00, 0.000e+00, 0.000e+00,\n",
              "        0.000e+00, 1.000e+00, 0.000e+00, 0.000e+00, 0.000e+00, 0.000e+00,\n",
              "        0.000e+00, 0.000e+00, 0.000e+00, 0.000e+00, 1.000e+00, 0.000e+00,\n",
              "        0.000e+00, 0.000e+00, 0.000e+00, 0.000e+00, 0.000e+00, 0.000e+00,\n",
              "        0.000e+00, 0.000e+00, 0.000e+00, 0.000e+00, 2.000e+00, 0.000e+00,\n",
              "        0.000e+00, 0.000e+00, 0.000e+00, 0.000e+00, 0.000e+00, 0.000e+00,\n",
              "        1.000e+00, 0.000e+00, 0.000e+00, 0.000e+00, 0.000e+00, 0.000e+00,\n",
              "        0.000e+00, 0.000e+00, 0.000e+00, 0.000e+00, 0.000e+00, 0.000e+00,\n",
              "        0.000e+00, 0.000e+00, 0.000e+00, 0.000e+00, 0.000e+00, 0.000e+00,\n",
              "        0.000e+00, 1.000e+00, 0.000e+00, 0.000e+00, 0.000e+00, 0.000e+00,\n",
              "        0.000e+00, 0.000e+00, 0.000e+00, 1.000e+00, 0.000e+00, 1.000e+00,\n",
              "        0.000e+00, 0.000e+00, 0.000e+00, 0.000e+00, 0.000e+00, 0.000e+00,\n",
              "        0.000e+00, 0.000e+00, 0.000e+00, 1.000e+00, 0.000e+00, 0.000e+00,\n",
              "        0.000e+00, 0.000e+00, 0.000e+00, 0.000e+00, 0.000e+00, 0.000e+00,\n",
              "        0.000e+00, 0.000e+00, 0.000e+00, 0.000e+00, 0.000e+00, 0.000e+00,\n",
              "        0.000e+00, 0.000e+00, 0.000e+00, 0.000e+00, 0.000e+00, 0.000e+00,\n",
              "        0.000e+00, 0.000e+00, 0.000e+00, 0.000e+00, 0.000e+00, 0.000e+00,\n",
              "        0.000e+00, 0.000e+00, 0.000e+00, 0.000e+00, 0.000e+00, 0.000e+00,\n",
              "        0.000e+00, 0.000e+00, 0.000e+00, 0.000e+00, 0.000e+00, 0.000e+00,\n",
              "        0.000e+00, 0.000e+00, 0.000e+00, 0.000e+00, 0.000e+00, 0.000e+00,\n",
              "        0.000e+00, 0.000e+00, 0.000e+00, 0.000e+00, 0.000e+00, 0.000e+00,\n",
              "        0.000e+00, 0.000e+00, 0.000e+00, 0.000e+00, 0.000e+00, 1.000e+00,\n",
              "        0.000e+00, 0.000e+00, 0.000e+00, 0.000e+00, 0.000e+00, 0.000e+00,\n",
              "        0.000e+00, 1.000e+00, 0.000e+00, 0.000e+00, 0.000e+00, 0.000e+00,\n",
              "        0.000e+00, 0.000e+00, 0.000e+00, 0.000e+00, 0.000e+00, 0.000e+00,\n",
              "        0.000e+00, 0.000e+00, 0.000e+00, 0.000e+00, 0.000e+00, 0.000e+00,\n",
              "        0.000e+00, 0.000e+00, 0.000e+00, 0.000e+00, 0.000e+00, 0.000e+00,\n",
              "        0.000e+00, 0.000e+00, 0.000e+00, 0.000e+00, 1.000e+00]),\n",
              " array([  75000.        ,   98176.29179331,  121352.58358663,\n",
              "         144528.87537994,  167705.16717325,  190881.45896657,\n",
              "         214057.75075988,  237234.04255319,  260410.3343465 ,\n",
              "         283586.62613982,  306762.91793313,  329939.20972644,\n",
              "         353115.50151976,  376291.79331307,  399468.08510638,\n",
              "         422644.3768997 ,  445820.66869301,  468996.96048632,\n",
              "         492173.25227964,  515349.54407295,  538525.83586626,\n",
              "         561702.12765957,  584878.41945289,  608054.7112462 ,\n",
              "         631231.00303951,  654407.29483283,  677583.58662614,\n",
              "         700759.87841945,  723936.17021277,  747112.46200608,\n",
              "         770288.75379939,  793465.04559271,  816641.33738602,\n",
              "         839817.62917933,  862993.92097264,  886170.21276596,\n",
              "         909346.50455927,  932522.79635258,  955699.0881459 ,\n",
              "         978875.37993921, 1002051.67173252, 1025227.96352584,\n",
              "        1048404.25531915, 1071580.54711246, 1094756.83890577,\n",
              "        1117933.13069909, 1141109.4224924 , 1164285.71428571,\n",
              "        1187462.00607903, 1210638.29787234, 1233814.58966565,\n",
              "        1256990.88145897, 1280167.17325228, 1303343.46504559,\n",
              "        1326519.75683891, 1349696.04863222, 1372872.34042553,\n",
              "        1396048.63221884, 1419224.92401216, 1442401.21580547,\n",
              "        1465577.50759878, 1488753.7993921 , 1511930.09118541,\n",
              "        1535106.38297872, 1558282.67477204, 1581458.96656535,\n",
              "        1604635.25835866, 1627811.55015198, 1650987.84194529,\n",
              "        1674164.1337386 , 1697340.42553191, 1720516.71732523,\n",
              "        1743693.00911854, 1766869.30091185, 1790045.59270517,\n",
              "        1813221.88449848, 1836398.17629179, 1859574.46808511,\n",
              "        1882750.75987842, 1905927.05167173, 1929103.34346505,\n",
              "        1952279.63525836, 1975455.92705167, 1998632.21884498,\n",
              "        2021808.5106383 , 2044984.80243161, 2068161.09422492,\n",
              "        2091337.38601824, 2114513.67781155, 2137689.96960486,\n",
              "        2160866.26139818, 2184042.55319149, 2207218.8449848 ,\n",
              "        2230395.13677812, 2253571.42857143, 2276747.72036474,\n",
              "        2299924.01215805, 2323100.30395137, 2346276.59574468,\n",
              "        2369452.88753799, 2392629.17933131, 2415805.47112462,\n",
              "        2438981.76291793, 2462158.05471125, 2485334.34650456,\n",
              "        2508510.63829787, 2531686.93009119, 2554863.2218845 ,\n",
              "        2578039.51367781, 2601215.80547112, 2624392.09726444,\n",
              "        2647568.38905775, 2670744.68085106, 2693920.97264438,\n",
              "        2717097.26443769, 2740273.556231  , 2763449.84802432,\n",
              "        2786626.13981763, 2809802.43161094, 2832978.72340426,\n",
              "        2856155.01519757, 2879331.30699088, 2902507.59878419,\n",
              "        2925683.89057751, 2948860.18237082, 2972036.47416413,\n",
              "        2995212.76595745, 3018389.05775076, 3041565.34954407,\n",
              "        3064741.64133739, 3087917.9331307 , 3111094.22492401,\n",
              "        3134270.51671733, 3157446.80851064, 3180623.10030395,\n",
              "        3203799.39209726, 3226975.68389058, 3250151.97568389,\n",
              "        3273328.2674772 , 3296504.55927052, 3319680.85106383,\n",
              "        3342857.14285714, 3366033.43465046, 3389209.72644377,\n",
              "        3412386.01823708, 3435562.3100304 , 3458738.60182371,\n",
              "        3481914.89361702, 3505091.18541033, 3528267.47720365,\n",
              "        3551443.76899696, 3574620.06079027, 3597796.35258359,\n",
              "        3620972.6443769 , 3644148.93617021, 3667325.22796353,\n",
              "        3690501.51975684, 3713677.81155015, 3736854.10334346,\n",
              "        3760030.39513678, 3783206.68693009, 3806382.9787234 ,\n",
              "        3829559.27051672, 3852735.56231003, 3875911.85410334,\n",
              "        3899088.14589666, 3922264.43768997, 3945440.72948328,\n",
              "        3968617.0212766 , 3991793.31306991, 4014969.60486322,\n",
              "        4038145.89665654, 4061322.18844985, 4084498.48024316,\n",
              "        4107674.77203647, 4130851.06382979, 4154027.3556231 ,\n",
              "        4177203.64741641, 4200379.93920973, 4223556.23100304,\n",
              "        4246732.52279635, 4269908.81458967, 4293085.10638298,\n",
              "        4316261.39817629, 4339437.6899696 , 4362613.98176292,\n",
              "        4385790.27355623, 4408966.56534954, 4432142.85714286,\n",
              "        4455319.14893617, 4478495.44072948, 4501671.7325228 ,\n",
              "        4524848.02431611, 4548024.31610942, 4571200.60790274,\n",
              "        4594376.89969605, 4617553.19148936, 4640729.48328268,\n",
              "        4663905.77507599, 4687082.0668693 , 4710258.35866261,\n",
              "        4733434.65045593, 4756610.94224924, 4779787.23404255,\n",
              "        4802963.52583587, 4826139.81762918, 4849316.10942249,\n",
              "        4872492.40121581, 4895668.69300912, 4918844.98480243,\n",
              "        4942021.27659574, 4965197.56838906, 4988373.86018237,\n",
              "        5011550.15197568, 5034726.443769  , 5057902.73556231,\n",
              "        5081079.02735562, 5104255.31914894, 5127431.61094225,\n",
              "        5150607.90273556, 5173784.19452888, 5196960.48632219,\n",
              "        5220136.7781155 , 5243313.06990881, 5266489.36170213,\n",
              "        5289665.65349544, 5312841.94528875, 5336018.23708207,\n",
              "        5359194.52887538, 5382370.82066869, 5405547.11246201,\n",
              "        5428723.40425532, 5451899.69604863, 5475075.98784195,\n",
              "        5498252.27963526, 5521428.57142857, 5544604.86322188,\n",
              "        5567781.1550152 , 5590957.44680851, 5614133.73860182,\n",
              "        5637310.03039514, 5660486.32218845, 5683662.61398176,\n",
              "        5706838.90577508, 5730015.19756839, 5753191.4893617 ,\n",
              "        5776367.78115502, 5799544.07294833, 5822720.36474164,\n",
              "        5845896.65653495, 5869072.94832827, 5892249.24012158,\n",
              "        5915425.53191489, 5938601.82370821, 5961778.11550152,\n",
              "        5984954.40729483, 6008130.69908815, 6031306.99088146,\n",
              "        6054483.28267477, 6077659.57446809, 6100835.8662614 ,\n",
              "        6124012.15805471, 6147188.44984802, 6170364.74164134,\n",
              "        6193541.03343465, 6216717.32522796, 6239893.61702128,\n",
              "        6263069.90881459, 6286246.2006079 , 6309422.49240122,\n",
              "        6332598.78419453, 6355775.07598784, 6378951.36778115,\n",
              "        6402127.65957447, 6425303.95136778, 6448480.24316109,\n",
              "        6471656.53495441, 6494832.82674772, 6518009.11854103,\n",
              "        6541185.41033435, 6564361.70212766, 6587537.99392097,\n",
              "        6610714.28571429, 6633890.5775076 , 6657066.86930091,\n",
              "        6680243.16109423, 6703419.45288754, 6726595.74468085,\n",
              "        6749772.03647416, 6772948.32826748, 6796124.62006079,\n",
              "        6819300.9118541 , 6842477.20364742, 6865653.49544073,\n",
              "        6888829.78723404, 6912006.07902736, 6935182.37082067,\n",
              "        6958358.66261398, 6981534.9544073 , 7004711.24620061,\n",
              "        7027887.53799392, 7051063.82978723, 7074240.12158055,\n",
              "        7097416.41337386, 7120592.70516717, 7143768.99696049,\n",
              "        7166945.2887538 , 7190121.58054711, 7213297.87234043,\n",
              "        7236474.16413374, 7259650.45592705, 7282826.74772036,\n",
              "        7306003.03951368, 7329179.33130699, 7352355.6231003 ,\n",
              "        7375531.91489362, 7398708.20668693, 7421884.49848024,\n",
              "        7445060.79027356, 7468237.08206687, 7491413.37386018,\n",
              "        7514589.6656535 , 7537765.95744681, 7560942.24924012,\n",
              "        7584118.54103343, 7607294.83282675, 7630471.12462006,\n",
              "        7653647.41641337, 7676823.70820669, 7700000.        ]),\n",
              " <BarContainer object of 329 artists>)"
            ]
          },
          "execution_count": 48,
          "metadata": {},
          "output_type": "execute_result"
        },
        {
          "data": {
            "image/png": "[encoded data removed]",
            "text/plain": [
              "<Figure size 1000x600 with 1 Axes>"
            ]
          },
          "metadata": {},
          "output_type": "display_data"
        }
      ],
      "source": [
        "import matplotlib.pyplot as plt\n",
        "import seaborn as sns\n",
        "\n",
        "plt.figure(figsize=(10, 6)) # Задали размер графической области, где будет строиться график\n",
        "plt.xlabel('Ось Х / Axe X')\n",
        "plt.ylabel('Ось Y / Axe Y')\n",
        "plt.title('График распределенгия стоимости недвижимости')\n",
        "\n",
        "# Готовим данные для графика в виде сводной таблицы - группируем данный в зависимости \n",
        "\n",
        "# Вывод графика распределения стоимости недвижимости \n",
        "plt.hist(\n",
        "    df_khd['price'],\n",
        "    bins='auto',\n",
        "    log=True\n",
        ")"
      ]
    },
    {
      "cell_type": "markdown",
      "metadata": {},
      "source": [
        "1.3. Изучите распределение квадратуры жилой"
      ]
    },
    {
      "cell_type": "code",
      "execution_count": 49,
      "metadata": {},
      "outputs": [
        {
          "name": "stdout",
          "output_type": "stream",
          "text": [
            "Распределение жилой площади недвижимости НЕ является нормальным распределением\n"
          ]
        },
        {
          "data": {
            "text/plain": [
              "Text(0.5, 0, 'Площадь')"
            ]
          },
          "execution_count": 49,
          "metadata": {},
          "output_type": "execute_result"
        }
      ],
      "source": [
        "pv = stats.shapiro(df_khd['sqft_living'].sample(1000)).pvalue\n",
        "\n",
        "if pv < 0.05:\n",
        "        print(\"Распределение жилой площади недвижимости НЕ является нормальным распределением\")\n",
        "else :\n",
        "        print(\"Распределение жилой площади недвижимости является нормальным распределением\")\n",
        "\n",
        "plt.figure(figsize=(10, 6))\n",
        "\n",
        "sns.boxplot(x=df_khd['sqft_living'])\n",
        "plt.title(\"Распределение жилой площади\")\n",
        "plt.xlabel(\"Площадь\")\n",
        "\n",
        "\n"
      ]
    },
    {
      "cell_type": "markdown",
      "metadata": {},
      "source": [
        "Распределение жилой площади недвижимости НЕ является нормальным распределением. Средняя площадь около 2000, с выбросами от 4000 до 8000 и редкими выбросами более 8000."
      ]
    },
    {
      "cell_type": "markdown",
      "metadata": {},
      "source": [
        "1.4. Изучите распределение года постройки"
      ]
    },
    {
      "cell_type": "code",
      "execution_count": null,
      "metadata": {},
      "outputs": [
        {
          "data": {
            "text/plain": [
              "Text(0, 0.5, 'Количество')"
            ]
          },
          "execution_count": 43,
          "metadata": {},
          "output_type": "execute_result"
        },
        {
          "data": {
            "image/png": "[encoded data removed]",
            "text/plain": [
              "<Figure size 1000x600 with 1 Axes>"
            ]
          },
          "metadata": {},
          "output_type": "display_data"
        }
      ],
      "source": [
        "plt.figure(figsize=(10, 6))\n",
        "sns.histplot(df_khd['yr_built'], bins=20)\n",
        "plt.title('Распределение недвижимости по годам постройки')\n",
        "plt.xlabel('Год постройки')\n",
        "plt.ylabel('Количество')"
      ]
    },
    {
      "cell_type": "markdown",
      "metadata": {},
      "source": [
        "Выводы: Основная застройка приходится на конец 1950х и начало 1960х годо, а также на 2000 годы. Также присутствуют два периода интенсивной (пиковой) застройки приходящиеся на конец 1970х и на 2010е годы"
      ]
    },
    {
      "cell_type": "markdown",
      "metadata": {},
      "source": [
        "### 2.1. Изучите распределение домов от наличия вида на набережную. Постройте график. Сделайте выводы"
      ]
    },
    {
      "cell_type": "code",
      "execution_count": null,
      "metadata": {},
      "outputs": [
        {
          "data": {
            "text/plain": [
              "<matplotlib.legend.Legend at 0x2226f553110>"
            ]
          },
          "execution_count": 44,
          "metadata": {},
          "output_type": "execute_result"
        },
        {
          "data": {
            "image/png": "[encoded data removed]",
            "text/plain": [
              "<Figure size 600x400 with 1 Axes>"
            ]
          },
          "metadata": {},
          "output_type": "display_data"
        }
      ],
      "source": [
        "data = df_khd['waterfront'].value_counts()\n",
        "\n",
        "plt.figure(figsize=(6, 4))\n",
        "plt.pie(data, autopct='%1.1f%%')\n",
        "plt.legend(['no', 'yes'])"
      ]
    },
    {
      "cell_type": "markdown",
      "metadata": {},
      "source": [
        "Выводы: Так как \"Вид на набережную\" имеет бинарный характер, то достаточно указать только  долю таких домов.\n",
        "Это доля мала, сего только около 0,8% домов имеет вид на набережную"
      ]
    },
    {
      "cell_type": "markdown",
      "metadata": {},
      "source": [
        "### 2.2. Изучите распределение этажей домов\n",
        "\n"
      ]
    },
    {
      "cell_type": "code",
      "execution_count": null,
      "metadata": {},
      "outputs": [
        {
          "ename": "SyntaxError",
          "evalue": "invalid syntax (3338531321.py, line 9)",
          "output_type": "error",
          "traceback": [
            "\u001b[1;36m  Cell \u001b[1;32mIn[45], line 9\u001b[1;36m\u001b[0m\n\u001b[1;33m    Вывод графика распределения стоимости недвижимости\u001b[0m\n\u001b[1;37m          ^\u001b[0m\n\u001b[1;31mSyntaxError\u001b[0m\u001b[1;31m:\u001b[0m invalid syntax\n"
          ]
        }
      ],
      "source": [
        "data = df_khd['floors'].value_counts()\n",
        "\n",
        "plt.figure(figsize=(10, 6)) # Задали размер графической области, где будет строиться график\n",
        "plt.xlabel('Ось Х / Axe X')\n",
        "plt.ylabel('Ось Y / Axe Y')\n",
        "plt.title('График распределения этажности недвижимости')\n",
        "\n",
        "df_khd['floors'].head()\n",
        "# Вывод графика распределения стоимости недвижимости \n",
        "plt.hist(\n",
        "    df_khd['floors'],\n",
        "    bins=int,\n",
        "    log=True\n",
        ")"
      ]
    },
    {
      "cell_type": "markdown",
      "metadata": {},
      "source": [
        "Условие 3: 3 задача\n",
        "Исследуйте, какие характеристики недвижимости влияют на стоимость недвижимости, с применением не менее 5 диаграмм из урока.\n",
        "Анализ сделайте в формате storytelling: дополнить каждый график письменными выводами и наблюдениями."
      ]
    },
    {
      "cell_type": "code",
      "execution_count": null,
      "metadata": {},
      "outputs": [],
      "source": []
    }
  ],
  "metadata": {
    "kernelspec": {
      "display_name": "Python 3",
      "language": "python",
      "name": "python3"
    },
    "language_info": {
      "codemirror_mode": {
        "name": "ipython",
        "version": 3
      },
      "file_extension": ".py",
      "mimetype": "text/x-python",
      "name": "python",
      "nbconvert_exporter": "python",
      "pygments_lexer": "ipython3",
      "version": "3.11.2"
    }
  },
  "nbformat": 4,
  "nbformat_minor": 4
}
